{
 "cells": [
  {
   "cell_type": "code",
   "execution_count": 14,
   "id": "69724620-9a7b-4962-bb48-5b46dded5561",
   "metadata": {},
   "outputs": [],
   "source": [
    "# Generate ANDNOT function using the McCulloch-Pitts neural net by python program.\n",
    "import numpy as np"
   ]
  },
  {
   "cell_type": "code",
   "execution_count": 15,
   "id": "cc1bbd95-392f-4b39-ab7c-e26ebac8fe2a",
   "metadata": {},
   "outputs": [],
   "source": [
    "def linear_threshold_gate(dot,T):\n",
    "    if dot>=T:\n",
    "        return 1\n",
    "    else: \n",
    "        return 0"
   ]
  },
  {
   "cell_type": "code",
   "execution_count": 21,
   "id": "840d7c56-42cb-41f1-869b-29295ac0f8c5",
   "metadata": {},
   "outputs": [],
   "source": [
    "input_table=np.array([[0,0],[0,1],[1,0],[1,1]])\n",
    "weights=np.array([1,-1])  \n",
    "T=1"
   ]
  },
  {
   "cell_type": "code",
   "execution_count": 17,
   "id": "63ecacdc-93bf-4da2-89a8-e8e1d460915e",
   "metadata": {},
   "outputs": [],
   "source": [
    "dot_product_sum=np.dot(input_table, weights)"
   ]
  },
  {
   "cell_type": "code",
   "execution_count": 18,
   "id": "2b20c103-369e-43fe-8a76-fc551bb967d6",
   "metadata": {},
   "outputs": [
    {
     "name": "stdout",
     "output_type": "stream",
     "text": [
      "input table:\n",
      "[[0 0]\n",
      " [0 1]\n",
      " [1 0]\n",
      " [1 1]]\n",
      "Output:\n",
      "[ 0 -1  1  0]\n"
     ]
    }
   ],
   "source": [
    "print(f\"input table:\\n{input_table}\")\n",
    "print(f\"Output:\\n{dot_product_sum}\")\n"
   ]
  },
  {
   "cell_type": "code",
   "execution_count": 19,
   "id": "09041fec-4894-416f-9719-2cc44062e641",
   "metadata": {},
   "outputs": [
    {
     "name": "stdout",
     "output_type": "stream",
     "text": [
      "Activation:0\n",
      "Activation:0\n",
      "Activation:1\n",
      "Activation:0\n"
     ]
    }
   ],
   "source": [
    "for i in range(0,4):\n",
    "    activation=linear_threshold_gate(dot_product_sum[i],T)\n",
    "    print(f\"Activation:{activation}\")\n",
    "    "
   ]
  },
  {
   "cell_type": "code",
   "execution_count": null,
   "id": "5eac7252-26e1-4fde-8350-f29e4a7b04c6",
   "metadata": {},
   "outputs": [],
   "source": []
  }
 ],
 "metadata": {
  "kernelspec": {
   "display_name": "Python 3 (ipykernel)",
   "language": "python",
   "name": "python3"
  },
  "language_info": {
   "codemirror_mode": {
    "name": "ipython",
    "version": 3
   },
   "file_extension": ".py",
   "mimetype": "text/x-python",
   "name": "python",
   "nbconvert_exporter": "python",
   "pygments_lexer": "ipython3",
   "version": "3.12.3"
  }
 },
 "nbformat": 4,
 "nbformat_minor": 5
}
