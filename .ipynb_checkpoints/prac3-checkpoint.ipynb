{
 "cells": [
  {
   "cell_type": "code",
   "execution_count": 2,
   "id": "f97f921d-8a2a-4e6f-8d11-13d23afcd34b",
   "metadata": {},
   "outputs": [],
   "source": [
    "import numpy as np\n",
    "import matplotlib.pyplot as plt\n",
    "from sklearn.datasets import load_iris"
   ]
  },
  {
   "cell_type": "code",
   "execution_count": 3,
   "id": "0d13f8e9-bd79-4885-9498-7d7adbabcddd",
   "metadata": {},
   "outputs": [],
   "source": [
    "iris=load_iris()"
   ]
  },
  {
   "cell_type": "code",
   "execution_count": 18,
   "id": "2aaa60bc-54fd-4439-82e3-ecf219dc111d",
   "metadata": {},
   "outputs": [
    {
     "data": {
      "text/plain": [
       "array([5.1, 1.4])"
      ]
     },
     "execution_count": 18,
     "metadata": {},
     "output_type": "execute_result"
    }
   ],
   "source": [
    "X=iris.data[:,[0,2]]\n",
    "y=iris.target\n",
    "weights=np.zeros(2)\n",
    "b=0\n",
    "lr=0.1\n",
    "epochs=50\n",
    "# X[0]"
   ]
  },
  {
   "cell_type": "code",
   "execution_count": 20,
   "id": "e41b1e5f-5389-4869-b936-6f31e254c44c",
   "metadata": {},
   "outputs": [
    {
     "data": {
      "text/plain": [
       "(0, 1, 1)"
      ]
     },
     "execution_count": 20,
     "metadata": {},
     "output_type": "execute_result"
    }
   ],
   "source": [
    "y=np.where(y==0,0,1)\n",
    "# y[1],y[52],y[149]"
   ]
  },
  {
   "cell_type": "code",
   "execution_count": 17,
   "id": "7d5a6daa-886c-48b2-bf9a-1bc4bce88635",
   "metadata": {},
   "outputs": [],
   "source": [
    "def perceptron(x,w,b):\n",
    "    z=np.dot(x,w)+b\n",
    "    return np.where(z>=0,1,0)"
   ]
  },
  {
   "cell_type": "code",
   "execution_count": 30,
   "id": "72e9c4e8-e161-402b-af91-e6c22c1b0e9f",
   "metadata": {},
   "outputs": [],
   "source": [
    "for epoch in range(epochs):\n",
    "    for i in range(len(X)):\n",
    "        x=X[i]\n",
    "        target=y[i]\n",
    "        output=perceptron(x,weights,b)\n",
    "        error=target-output\n",
    "        weights+=lr*error*x\n",
    "        b+=lr*error"
   ]
  },
  {
   "cell_type": "code",
   "execution_count": 67,
   "id": "1032252b-4998-40d9-ac23-0e096169dd4b",
   "metadata": {},
   "outputs": [
    {
     "name": "stdout",
     "output_type": "stream",
     "text": [
      "3.82\n"
     ]
    }
   ],
   "source": [
    "x_min,x_max=X[:,0].min()-0.5,X[:,0].max()+0.5\n",
    "y_min,y_max=X[:,1].min()-0.5,X[:,1].max()+0.5\n",
    "# print(x_min)\n",
    "# print(x_max)\n",
    "xx,yy=np.meshgrid(np.arange(x_min,x_max,0.02),np.arange(y_min,y_max,0.02))\n",
    "# meshgrid basically takes two one dimensinal arrays and converts them into two dimensional arrays\n",
    "# print(xx[1][1])\n",
    "# print(xx)\n",
    "# print(len(xx))\n",
    "# print(xx.shape)\n",
    "# print(xx.ravel())\n",
    "# print(xx.ravel().shape)"
   ]
  },
  {
   "cell_type": "code",
   "execution_count": 99,
   "id": "4714420f-84ff-42ec-b92a-f9ff83af9e8d",
   "metadata": {},
   "outputs": [
    {
     "name": "stdout",
     "output_type": "stream",
     "text": [
      "[[0 0 0 ... 0 0 0]\n",
      " [0 0 0 ... 0 0 0]\n",
      " [0 0 0 ... 0 0 0]\n",
      " ...\n",
      " [1 1 1 ... 1 1 1]\n",
      " [1 1 1 ... 1 1 1]\n",
      " [1 1 1 ... 1 1 1]]\n"
     ]
    }
   ],
   "source": [
    "Z=perceptron(np.c_[xx.ravel(),yy.ravel()],weights,b)\n",
    "# print(len(Z))\n",
    "# print(yy.shape)\n",
    "# print(len([xx.ravel(),yy.ravel()]))\n",
    "# print(np.c_[xx.ravel(),yy.ravel()].shape)\n",
    "# print(Z)\n",
    "# print(Z.shape)\n",
    "# print(Z.shape)\n",
    "Z=Z.reshape(xx.shape)\n",
    "# print(Z)\n",
    "# This reshape basically reshapes the Z as per the shape of xx (which is of (345,231))\n",
    "# i.e. the output that we got from the perceptron function to be in the shape(79695)\n",
    "# print(Z.shape)"
   ]
  },
  {
   "cell_type": "code",
   "execution_count": 102,
   "id": "b6433815-a924-4476-bbe5-e6c431511942",
   "metadata": {},
   "outputs": [
    {
     "data": {
      "image/png": "[encoded data removed]",
      "text/plain": [
       "<Figure size 640x480 with 1 Axes>"
      ]
     },
     "metadata": {},
     "output_type": "display_data"
    }
   ],
   "source": [
    "plt.contourf(xx,yy,Z,cmap=plt.cm.Paired)\n",
    "plt.xlabel(\"Sepal Length\")\n",
    "plt.ylabel(\"Petal Length\")\n",
    "plt.title(\"Perceptron Decision Regions\")\n",
    "plt.show()"
   ]
  },
  {
   "cell_type": "code",
   "execution_count": null,
   "id": "21d94a62-2515-45c5-b52a-67e8d3aded76",
   "metadata": {},
   "outputs": [],
   "source": []
  }
 ],
 "metadata": {
  "kernelspec": {
   "display_name": "Python 3 (ipykernel)",
   "language": "python",
   "name": "python3"
  },
  "language_info": {
   "codemirror_mode": {
    "name": "ipython",
    "version": 3
   },
   "file_extension": ".py",
   "mimetype": "text/x-python",
   "name": "python",
   "nbconvert_exporter": "python",
   "pygments_lexer": "ipython3",
   "version": "3.12.3"
  }
 },
 "nbformat": 4,
 "nbformat_minor": 5
}
